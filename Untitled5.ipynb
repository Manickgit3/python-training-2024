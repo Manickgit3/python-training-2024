{
 "cells": [
  {
   "cell_type": "code",
   "execution_count": 14,
   "id": "dc68bfd1-a17f-45c6-b707-e4a48f8e083c",
   "metadata": {},
   "outputs": [],
   "source": [
    "db = [ \n",
    "    [\"vimal\",1111, \"ok\", \"mumbai\"],\n",
    "    [\"rahul\",2222,\"great\",\"chennai\"],\n",
    "    [\"eric\",5555,\"good\",\"bangalore\"],\n",
    "    [\"tom\",8989,\"worst\",\"gujrat\"] \n",
    "]"
   ]
  },
  {
   "cell_type": "code",
   "execution_count": 15,
   "id": "002fbba2",
   "metadata": {},
   "outputs": [
    {
     "data": {
      "text/plain": [
       "4"
      ]
     },
     "execution_count": 15,
     "metadata": {},
     "output_type": "execute_result"
    }
   ],
   "source": [
    "len(db)"
   ]
  },
  {
   "cell_type": "code",
   "execution_count": 16,
   "id": "26f72944",
   "metadata": {},
   "outputs": [
    {
     "data": {
      "text/plain": [
       "['tom', 8989, 'worst', 'gujrat']"
      ]
     },
     "execution_count": 16,
     "metadata": {},
     "output_type": "execute_result"
    }
   ],
   "source": [
    "db[3]"
   ]
  },
  {
   "cell_type": "code",
   "execution_count": 17,
   "id": "8833030b",
   "metadata": {},
   "outputs": [],
   "source": [
    "import numpy"
   ]
  },
  {
   "cell_type": "code",
   "execution_count": 18,
   "id": "f64b07a6",
   "metadata": {},
   "outputs": [],
   "source": [
    "arrayDB = numpy.array(db)"
   ]
  },
  {
   "cell_type": "code",
   "execution_count": 19,
   "id": "b55bf251",
   "metadata": {},
   "outputs": [
    {
     "data": {
      "text/plain": [
       "numpy.ndarray"
      ]
     },
     "execution_count": 19,
     "metadata": {},
     "output_type": "execute_result"
    }
   ],
   "source": [
    "type(arrayDB)"
   ]
  },
  {
   "cell_type": "code",
   "execution_count": 20,
   "id": "9555630c",
   "metadata": {},
   "outputs": [
    {
     "data": {
      "text/plain": [
       "array([['eric', '5555', 'good', 'bangalore'],\n",
       "       ['tom', '8989', 'worst', 'gujrat']], dtype='<U11')"
      ]
     },
     "execution_count": 20,
     "metadata": {},
     "output_type": "execute_result"
    }
   ],
   "source": [
    "arrayDB[2:4]"
   ]
  },
  {
   "cell_type": "code",
   "execution_count": 21,
   "id": "2a4506c3",
   "metadata": {},
   "outputs": [
    {
     "data": {
      "text/plain": [
       "array([['5555', 'good'],\n",
       "       ['8989', 'worst']], dtype='<U11')"
      ]
     },
     "execution_count": 21,
     "metadata": {},
     "output_type": "execute_result"
    }
   ],
   "source": [
    "arrayDB[2:4, 1:3]"
   ]
  },
  {
   "cell_type": "code",
   "execution_count": 22,
   "id": "5fee4caa",
   "metadata": {},
   "outputs": [],
   "source": [
    "import cv2"
   ]
  },
  {
   "cell_type": "code",
   "execution_count": 23,
   "id": "0f0124e8",
   "metadata": {},
   "outputs": [],
   "source": [
    "cap = cv2.VideoCapture(0)"
   ]
  },
  {
   "cell_type": "code",
   "execution_count": 24,
   "id": "dccd4bc1",
   "metadata": {},
   "outputs": [
    {
     "data": {
      "text/plain": [
       "False"
      ]
     },
     "execution_count": 24,
     "metadata": {},
     "output_type": "execute_result"
    }
   ],
   "source": [
    "cap.isOpened()"
   ]
  },
  {
   "cell_type": "code",
   "execution_count": 25,
   "id": "73383ddf",
   "metadata": {},
   "outputs": [],
   "source": [
    "from PIL import Image"
   ]
  },
  {
   "cell_type": "code",
   "execution_count": 26,
   "id": "14782ffe",
   "metadata": {},
   "outputs": [],
   "source": [
    "image_path = \"image.jpg\"\n",
    "img = Image.open(image_path)"
   ]
  },
  {
   "cell_type": "code",
   "execution_count": 28,
   "id": "537772ee",
   "metadata": {},
   "outputs": [],
   "source": [
    "img.show()"
   ]
  },
  {
   "cell_type": "code",
   "execution_count": 34,
   "id": "a3f3602d",
   "metadata": {},
   "outputs": [
    {
     "data": {
      "text/plain": [
       "PIL.JpegImagePlugin.JpegImageFile"
      ]
     },
     "execution_count": 34,
     "metadata": {},
     "output_type": "execute_result"
    }
   ],
   "source": [
    "type(img)"
   ]
  },
  {
   "cell_type": "code",
   "execution_count": null,
   "id": "160483cf",
   "metadata": {},
   "outputs": [],
   "source": []
  }
 ],
 "metadata": {
  "kernelspec": {
   "display_name": "base",
   "language": "python",
   "name": "python3"
  },
  "language_info": {
   "codemirror_mode": {
    "name": "ipython",
    "version": 3
   },
   "file_extension": ".py",
   "mimetype": "text/x-python",
   "name": "python",
   "nbconvert_exporter": "python",
   "pygments_lexer": "ipython3",
   "version": "3.12.4"
  }
 },
 "nbformat": 4,
 "nbformat_minor": 5
}
