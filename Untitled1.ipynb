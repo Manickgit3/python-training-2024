{
 "cells": [
  {
   "cell_type": "code",
   "execution_count": 2,
   "id": "728f0ddf-1b45-4409-89d5-f6c15942dd91",
   "metadata": {},
   "outputs": [],
   "source": [
    "x = 5"
   ]
  },
  {
   "cell_type": "raw",
   "id": "9ff424af-4249-416b-ba82-80631a73ec1f",
   "metadata": {},
   "source": [
    "print(x)"
   ]
  },
  {
   "cell_type": "code",
   "execution_count": 3,
   "id": "6fa86d9f-a924-48f2-9a41-223ebbed1144",
   "metadata": {},
   "outputs": [
    {
     "data": {
      "text/plain": [
       "5"
      ]
     },
     "execution_count": 3,
     "metadata": {},
     "output_type": "execute_result"
    }
   ],
   "source": [
    "x"
   ]
  },
  {
   "cell_type": "code",
   "execution_count": 4,
   "id": "67a585c6-c5c8-4bdc-ba55-bfff50d47701",
   "metadata": {},
   "outputs": [
    {
     "name": "stdout",
     "output_type": "stream",
     "text": [
      "this is string\n"
     ]
    }
   ],
   "source": [
    "print(\"this is string\")"
   ]
  },
  {
   "cell_type": "code",
   "execution_count": 5,
   "id": "cc10d3bd-4ffa-47dd-b2a5-4a92a9c7e777",
   "metadata": {},
   "outputs": [
    {
     "data": {
      "text/plain": [
       "140726874815032"
      ]
     },
     "execution_count": 5,
     "metadata": {},
     "output_type": "execute_result"
    }
   ],
   "source": [
    "id (x)"
   ]
  },
  {
   "cell_type": "code",
   "execution_count": 6,
   "id": "313fd7be-3276-4860-a9a1-c99430eec1cd",
   "metadata": {},
   "outputs": [
    {
     "name": "stdout",
     "output_type": "stream",
     "text": [
      "5\n"
     ]
    }
   ],
   "source": [
    "print(x)"
   ]
  },
  {
   "cell_type": "code",
   "execution_count": 7,
   "id": "f6665e0a-1070-4f47-b378-f122c90eb4c9",
   "metadata": {},
   "outputs": [
    {
     "data": {
      "text/plain": [
       "int"
      ]
     },
     "execution_count": 7,
     "metadata": {},
     "output_type": "execute_result"
    }
   ],
   "source": [
    "type(x)"
   ]
  },
  {
   "cell_type": "code",
   "execution_count": 8,
   "id": "76249f5d-31bd-42b4-b08e-708e53de7f04",
   "metadata": {},
   "outputs": [],
   "source": [
    "x = 5.5"
   ]
  },
  {
   "cell_type": "code",
   "execution_count": 9,
   "id": "b092946a-bbfc-4f1c-87b4-059c176bfabb",
   "metadata": {},
   "outputs": [
    {
     "data": {
      "text/plain": [
       "float"
      ]
     },
     "execution_count": 9,
     "metadata": {},
     "output_type": "execute_result"
    }
   ],
   "source": [
    "type(x)"
   ]
  },
  {
   "cell_type": "code",
   "execution_count": 10,
   "id": "accf2ea9-7cb3-4370-ad84-f2d15154afea",
   "metadata": {},
   "outputs": [
    {
     "ename": "NameError",
     "evalue": "name 'say' is not defined",
     "output_type": "error",
     "traceback": [
      "\u001b[1;31m---------------------------------------------------------------------------\u001b[0m",
      "\u001b[1;31mNameError\u001b[0m                                 Traceback (most recent call last)",
      "Cell \u001b[1;32mIn[10], line 1\u001b[0m\n\u001b[1;32m----> 1\u001b[0m say()\n",
      "\u001b[1;31mNameError\u001b[0m: name 'say' is not defined"
     ]
    }
   ],
   "source": [
    "say()"
   ]
  },
  {
   "cell_type": "code",
   "execution_count": null,
   "id": "971cf029-bfb6-4340-81ac-4214300a9f22",
   "metadata": {},
   "outputs": [],
   "source": []
  }
 ],
 "metadata": {
  "kernelspec": {
   "display_name": "Python 3 (ipykernel)",
   "language": "python",
   "name": "python3"
  },
  "language_info": {
   "codemirror_mode": {
    "name": "ipython",
    "version": 3
   },
   "file_extension": ".py",
   "mimetype": "text/x-python",
   "name": "python",
   "nbconvert_exporter": "python",
   "pygments_lexer": "ipython3",
   "version": "3.12.4"
  }
 },
 "nbformat": 4,
 "nbformat_minor": 5
}
