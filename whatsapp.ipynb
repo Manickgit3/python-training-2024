{
 "cells": [
  {
   "cell_type": "code",
   "execution_count": null,
   "id": "45a06102-b9aa-4094-b5b1-5b0b0451c68e",
   "metadata": {},
   "outputs": [],
   "source": [
    "import pywhatkit"
   ]
  },
  {
   "cell_type": "code",
   "execution_count": null,
   "id": "2793ac2f-0faa-4640-bb38-aaf52d34b4ab",
   "metadata": {},
   "outputs": [],
   "source": [
    "pywhatkit.sendwhatmsg(\"+918610817582\", \"hello yuvarekha\", 11, 57)"
   ]
  },
  {
   "cell_type": "code",
   "execution_count": null,
   "id": "fb5a9ee6-28f5-4a25-8034-49a784c5da0f",
   "metadata": {},
   "outputs": [],
   "source": []
  }
 ],
 "metadata": {
  "kernelspec": {
   "display_name": "Python 3 (ipykernel)",
   "language": "python",
   "name": "python3"
  },
  "language_info": {
   "codemirror_mode": {
    "name": "ipython",
    "version": 3
   },
   "file_extension": ".py",
   "mimetype": "text/x-python",
   "name": "python",
   "nbconvert_exporter": "python",
   "pygments_lexer": "ipython3",
   "version": "3.12.4"
  }
 },
 "nbformat": 4,
 "nbformat_minor": 5
}
