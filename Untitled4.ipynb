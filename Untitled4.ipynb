{
 "cells": [
  {
   "cell_type": "code",
   "execution_count": 9,
   "id": "972a9c96-f351-4027-9a5c-987dcaceb2aa",
   "metadata": {},
   "outputs": [],
   "source": [
    "db =[ [\"thiru\", 1111, \"ok\"], [\"baby\", 2222, \"good\"], [\"dariusz\", 3333, \"poor\"] ]"
   ]
  },
  {
   "cell_type": "code",
   "execution_count": 10,
   "id": "6ccc2c0d-6392-4d94-b361-46d150c07d05",
   "metadata": {},
   "outputs": [
    {
     "name": "stdout",
     "output_type": "stream",
     "text": [
      "[['thiru', 1111, 'ok'], ['baby', 2222, 'good'], ['dariusz', 3333, 'poor']]\n"
     ]
    }
   ],
   "source": [
    "print(db)"
   ]
  },
  {
   "cell_type": "code",
   "execution_count": 3,
   "id": "2eefa35d-0fb2-45ba-ae89-b0557fce4774",
   "metadata": {},
   "outputs": [],
   "source": [
    "import numpy"
   ]
  },
  {
   "cell_type": "code",
   "execution_count": 11,
   "id": "9a4ab136-c141-4c71-a6d7-8a983a26c2c7",
   "metadata": {},
   "outputs": [
    {
     "data": {
      "text/plain": [
       "array([['thiru', '1111', 'ok'],\n",
       "       ['baby', '2222', 'good'],\n",
       "       ['dariusz', '3333', 'poor']], dtype='<U11')"
      ]
     },
     "execution_count": 11,
     "metadata": {},
     "output_type": "execute_result"
    }
   ],
   "source": [
    "numpy.array(db)"
   ]
  },
  {
   "cell_type": "code",
   "execution_count": 16,
   "id": "ee2a7e39-2c13-4264-ab0a-d5f35158afe8",
   "metadata": {},
   "outputs": [
    {
     "data": {
      "text/plain": [
       "array(['1111', '2222', '3333'], dtype='<U11')"
      ]
     },
     "execution_count": 16,
     "metadata": {},
     "output_type": "execute_result"
    }
   ],
   "source": [
    "DB[:, 1 ]"
   ]
  },
  {
   "cell_type": "code",
   "execution_count": 17,
   "id": "7dab264a-9d80-44db-a45a-fa86bd0020b0",
   "metadata": {},
   "outputs": [
    {
     "name": "stdout",
     "output_type": "stream",
     "text": [
      "Defaulting to user installation because normal site-packages is not writeable\n",
      "Note: you may need to restart the kernel to use updated packages.\n"
     ]
    },
    {
     "name": "stderr",
     "output_type": "stream",
     "text": [
      "ERROR: Could not find a version that satisfies the requirement opencv-pyhton (from versions: none)\n",
      "ERROR: No matching distribution found for opencv-pyhton\n"
     ]
    }
   ],
   "source": [
    "pip install opencv-pyhton"
   ]
  },
  {
   "cell_type": "code",
   "execution_count": null,
   "id": "b348fde8-da40-42b4-afef-b166088374dc",
   "metadata": {},
   "outputs": [],
   "source": []
  }
 ],
 "metadata": {
  "kernelspec": {
   "display_name": "Python 3 (ipykernel)",
   "language": "python",
   "name": "python3"
  },
  "language_info": {
   "codemirror_mode": {
    "name": "ipython",
    "version": 3
   },
   "file_extension": ".py",
   "mimetype": "text/x-python",
   "name": "python",
   "nbconvert_exporter": "python",
   "pygments_lexer": "ipython3",
   "version": "3.12.4"
  }
 },
 "nbformat": 4,
 "nbformat_minor": 5
}
